{
 "cells": [
  {
   "cell_type": "code",
   "execution_count": 4,
   "metadata": {},
   "outputs": [
    {
     "name": "stdout",
     "output_type": "stream",
     "text": [
      "['space'] 0.24757830000453396\n",
      "75.1196 \tWARNING \tMonitor specification not found. Creating a temporary one...\n"
     ]
    },
    {
     "ename": "SystemExit",
     "evalue": "0",
     "output_type": "error",
     "traceback": [
      "An exception has occurred, use %tb to see the full traceback.\n",
      "\u001b[1;31mSystemExit\u001b[0m\u001b[1;31m:\u001b[0m 0\n"
     ]
    },
    {
     "name": "stderr",
     "output_type": "stream",
     "text": [
      "d:\\ANACODA\\envs\\demo\\lib\\site-packages\\IPython\\core\\interactiveshell.py:3465: UserWarning: To exit: use 'exit', 'quit', or Ctrl-D.\n",
      "  warn(\"To exit: use 'exit', 'quit', or Ctrl-D.\", stacklevel=1)\n"
     ]
    }
   ],
   "source": [
    "from psychopy import visual, core, event\n",
    "import random\n",
    "\n",
    "def display_fixation_cross(win, duration):\n",
    "    # a fixation cross\n",
    "    fixation_cross = visual.TextStim(win, text=u'+', height=0.5, pos=(0.0, 0.0), color='white', bold=True, italic=False)\n",
    "    fixation_cross.draw()\n",
    "    win.flip()\n",
    "    core.wait(duration)\n",
    "\n",
    "def display_dog_image(win, image_path, timer):\n",
    "    dog_image = visual.ImageStim(win, image=image_path, pos=(0.0, 0.0), size=(1, 1))\n",
    "    win.flip()\n",
    "\n",
    "    # Record the start time of dog image presentation\n",
    "    start_time = timer.getTime()\n",
    "\n",
    "    dog_image.draw()\n",
    "    win.flip()\n",
    "\n",
    "    # Wait for key press and record the duration\n",
    "    key_press = event.waitKeys(keyList=['space'])\n",
    "    end_time = timer.getTime()\n",
    "    duration = end_time - start_time\n",
    "\n",
    "    return key_press, duration\n",
    "\n",
    "def main():\n",
    "    # to show\n",
    "    win = visual.Window(size=(1000, 600), color=(-1, -1, -1), fullscr=False)\n",
    "\n",
    "    # Define \n",
    "    fixation_duration = 3\n",
    "    dog_image_path = 'dog.webp'  \n",
    "    \n",
    "    # represents fixation cross, 1 represents a dog image\n",
    "    trials = [0] * 1 + [1] * 1\n",
    "    timer = core.Clock()\n",
    "\n",
    "    for trial in trials:\n",
    "        if trial == 0:\n",
    "            display_fixation_cross(win, fixation_duration)\n",
    "        elif trial == 1:\n",
    "            key_press, duration = display_dog_image(win, dog_image_path, timer)\n",
    "            print(key_press, duration)\n",
    "\n",
    "    # Close window\n",
    "    win.close()\n",
    "    core.quit()\n",
    "\n",
    "if __name__ == \"__main__\":\n",
    "    main()"
   ]
  }
 ],
 "metadata": {
  "kernelspec": {
   "display_name": "Python 3.7.15 ('demo')",
   "language": "python",
   "name": "python3"
  },
  "language_info": {
   "codemirror_mode": {
    "name": "ipython",
    "version": 3
   },
   "file_extension": ".py",
   "mimetype": "text/x-python",
   "name": "python",
   "nbconvert_exporter": "python",
   "pygments_lexer": "ipython3",
   "version": "3.7.15"
  },
  "orig_nbformat": 4,
  "vscode": {
   "interpreter": {
    "hash": "3dbcf6ddecc1347b23cbb27c7920ad06c598f6762cc8501428c4ee0c5cc3dd90"
   }
  }
 },
 "nbformat": 4,
 "nbformat_minor": 2
}
